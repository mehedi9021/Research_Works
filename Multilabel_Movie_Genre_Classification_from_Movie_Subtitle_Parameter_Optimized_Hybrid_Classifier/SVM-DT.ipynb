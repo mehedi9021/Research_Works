{
 "cells": [
  {
   "cell_type": "code",
   "execution_count": 3,
   "metadata": {},
   "outputs": [],
   "source": [
    "import pandas as pd\n",
    "import numpy as np\n",
    "import json\n",
    "import nltk\n",
    "import re\n",
    "import sys\n",
    "import csv\n",
    "import matplotlib.pyplot as plt\n",
    "import seaborn as sns\n",
    "from tqdm import tqdm\n",
    "from sklearn.feature_extraction.text import TfidfVectorizer\n",
    "from sklearn.model_selection import train_test_split\n",
    "\n",
    "%matplotlib inline\n",
    "pd.set_option('display.max_colwidth', 300)"
   ]
  },
  {
   "cell_type": "code",
   "execution_count": 4,
   "metadata": {},
   "outputs": [
    {
     "data": {
      "text/html": [
       "<div>\n",
       "<style scoped>\n",
       "    .dataframe tbody tr th:only-of-type {\n",
       "        vertical-align: middle;\n",
       "    }\n",
       "\n",
       "    .dataframe tbody tr th {\n",
       "        vertical-align: top;\n",
       "    }\n",
       "\n",
       "    .dataframe thead th {\n",
       "        text-align: right;\n",
       "    }\n",
       "</style>\n",
       "<table border=\"1\" class=\"dataframe\">\n",
       "  <thead>\n",
       "    <tr style=\"text-align: right;\">\n",
       "      <th></th>\n",
       "      <th>0</th>\n",
       "      <th>1</th>\n",
       "      <th>2</th>\n",
       "    </tr>\n",
       "  </thead>\n",
       "  <tbody>\n",
       "    <tr>\n",
       "      <th>0</th>\n",
       "      <td>1</td>\n",
       "      <td>12 Rounds 3: Lockdown</td>\n",
       "      <td>{\"1\":\"action\",\"2\":\"crime\",\"4\":\"thriller\"}</td>\n",
       "    </tr>\n",
       "    <tr>\n",
       "      <th>1</th>\n",
       "      <td>2</td>\n",
       "      <td>13 hours: The Secret Soldiers of Benghazi</td>\n",
       "      <td>{\"1\":\"action\",\"5\":\"family\",\"6\":\"fantasy\"}</td>\n",
       "    </tr>\n",
       "    <tr>\n",
       "      <th>2</th>\n",
       "      <td>3</td>\n",
       "      <td>90 Minutes in Heaven</td>\n",
       "      <td>{\"3\":\"drama\"}</td>\n",
       "    </tr>\n",
       "    <tr>\n",
       "      <th>3</th>\n",
       "      <td>4</td>\n",
       "      <td>Aloha</td>\n",
       "      <td>{\"7\":\"comedy\",\"3\":\"drama\",\"8\":\"romance\"}</td>\n",
       "    </tr>\n",
       "    <tr>\n",
       "      <th>4</th>\n",
       "      <td>5</td>\n",
       "      <td>American Justice</td>\n",
       "      <td>{\"1\":\"action\"}</td>\n",
       "    </tr>\n",
       "  </tbody>\n",
       "</table>\n",
       "</div>"
      ],
      "text/plain": [
       "   0                                          1  \\\n",
       "0  1                      12 Rounds 3: Lockdown   \n",
       "1  2  13 hours: The Secret Soldiers of Benghazi   \n",
       "2  3                       90 Minutes in Heaven   \n",
       "3  4                                      Aloha   \n",
       "4  5                           American Justice   \n",
       "\n",
       "                                           2  \n",
       "0  {\"1\":\"action\",\"2\":\"crime\",\"4\":\"thriller\"}  \n",
       "1  {\"1\":\"action\",\"5\":\"family\",\"6\":\"fantasy\"}  \n",
       "2                              {\"3\":\"drama\"}  \n",
       "3   {\"7\":\"comedy\",\"3\":\"drama\",\"8\":\"romance\"}  \n",
       "4                             {\"1\":\"action\"}  "
      ]
     },
     "execution_count": 4,
     "metadata": {},
     "output_type": "execute_result"
    }
   ],
   "source": [
    "meta = pd.read_csv(\"1.tsv\", sep = '\\t', header = None, encoding='ISO-8859-1')\n",
    "meta.head()"
   ]
  },
  {
   "cell_type": "code",
   "execution_count": 5,
   "metadata": {},
   "outputs": [],
   "source": [
    "# rename columns\n",
    "meta.columns = [\"movie_id\",\"movie_name\",\"genre\"]"
   ]
  },
  {
   "cell_type": "code",
   "execution_count": 6,
   "metadata": {},
   "outputs": [
    {
     "name": "stderr",
     "output_type": "stream",
     "text": [
      "284it [00:00, 563.82it/s]\n"
     ]
    }
   ],
   "source": [
    "subtitles = []\n",
    "\n",
    "csv.field_size_limit(1000000)\n",
    "with open(\"2.tsv\", encoding='ISO-8859-1') as f:\n",
    "       reader = csv.reader(f, dialect='excel-tab') \n",
    "       for row in tqdm(reader):\n",
    "            subtitles.append(row)"
   ]
  },
  {
   "cell_type": "code",
   "execution_count": 7,
   "metadata": {},
   "outputs": [
    {
     "name": "stderr",
     "output_type": "stream",
     "text": [
      "100%|██████████| 284/284 [00:00<?, ?it/s]\n"
     ]
    }
   ],
   "source": [
    "movie_id = []\n",
    "subtitle = []\n",
    "\n",
    "# extract movie Ids and subtitle\n",
    "for i in tqdm(subtitles):\n",
    "  movie_id.append(i[0])\n",
    "  subtitle.append(i[1])\n",
    "\n",
    "# create dataframe\n",
    "movies = pd.DataFrame({'movie_id': movie_id, 'subtitle': subtitle})"
   ]
  },
  {
   "cell_type": "code",
   "execution_count": 8,
   "metadata": {},
   "outputs": [
    {
     "data": {
      "text/html": [
       "<div>\n",
       "<style scoped>\n",
       "    .dataframe tbody tr th:only-of-type {\n",
       "        vertical-align: middle;\n",
       "    }\n",
       "\n",
       "    .dataframe tbody tr th {\n",
       "        vertical-align: top;\n",
       "    }\n",
       "\n",
       "    .dataframe thead th {\n",
       "        text-align: right;\n",
       "    }\n",
       "</style>\n",
       "<table border=\"1\" class=\"dataframe\">\n",
       "  <thead>\n",
       "    <tr style=\"text-align: right;\">\n",
       "      <th></th>\n",
       "      <th>movie_id</th>\n",
       "      <th>subtitle</th>\n",
       "    </tr>\n",
       "  </thead>\n",
       "  <tbody>\n",
       "    <tr>\n",
       "      <th>0</th>\n",
       "      <td>1</td>\n",
       "      <td>1 00:02:32,930 --&gt; 00:02:34,947 Nice place you got here.  2 00:02:35,432 --&gt; 00:02:36,899 Burke?  3 00:02:36,999 --&gt; 00:02:38,248 Relax.  4 00:02:39,751 --&gt; 00:02:41,371 I'm going to level with you.  5 00:02:41,769 --&gt; 00:02:43,889 Hell of a day I've had.  6 00:02:45,639 --&gt; 00:02:47,378 Thirsty...</td>\n",
       "    </tr>\n",
       "    <tr>\n",
       "      <th>1</th>\n",
       "      <td>2</td>\n",
       "      <td>1 00:01:28,322 --&gt; 00:01:31,006 &lt;i&gt;This marks the end&lt;/i&gt;  2 00:01:31,007 --&gt; 00:01:33,691 &lt;i&gt;of a long and painful chapter for the people of Libya,&lt;/i&gt;  3 00:01:33,694 --&gt; 00:01:37,096 &lt;i&gt;who now have the opportunity to determine their own destiny&lt;/i&gt;  4 00:01:37,098 --&gt; 00:01:39,331 &lt;i&gt;in a ne...</td>\n",
       "    </tr>\n",
       "    <tr>\n",
       "      <th>2</th>\n",
       "      <td>3</td>\n",
       "      <td>1 00:03:56,720 --&gt; 00:04:02,011 I died on January 18, 1989.  2 00:04:03,760 --&gt; 00:04:06,300 I was the father of three children.  3 00:04:06,400 --&gt; 00:04:09,165 The husband of a wonderful wife.  4 00:04:10,600 --&gt; 00:04:12,170 A man with a great future.  5 00:04:13,320 --&gt; 00:04:15,322 I was 38...</td>\n",
       "    </tr>\n",
       "    <tr>\n",
       "      <th>3</th>\n",
       "      <td>4</td>\n",
       "      <td>1 00:02:01,720 --&gt; 00:02:06,009 There was a time I knew everything in the sky.  2 00:02:06,600 --&gt; 00:02:08,329 Every satellite...  3 00:02:08,560 --&gt; 00:02:10,688 every constellation...  4 00:02:10,880 --&gt; 00:02:13,690 souvenirs of space walks and astronauts...  5 00:02:13,880 --&gt; 00:02:17,009 ...</td>\n",
       "    </tr>\n",
       "    <tr>\n",
       "      <th>4</th>\n",
       "      <td>5</td>\n",
       "      <td>1 00:00:20,293 --&gt; 00:00:23,263 This is LA 1-6 in pursuit of a robbery suspect.  2 00:00:23,296 --&gt; 00:00:25,463 East of Crenshaw and Slauson Boulevard.  3 00:00:29,803 --&gt; 00:00:31,238 Whoo!  4 00:00:31,271 --&gt; 00:00:33,574 This cop can kiss my ass!  5 00:00:42,849 --&gt; 00:00:44,809 Jack, I thin...</td>\n",
       "    </tr>\n",
       "  </tbody>\n",
       "</table>\n",
       "</div>"
      ],
      "text/plain": [
       "  movie_id  \\\n",
       "0        1   \n",
       "1        2   \n",
       "2        3   \n",
       "3        4   \n",
       "4        5   \n",
       "\n",
       "                                                                                                                                                                                                                                                                                                      subtitle  \n",
       "0  1 00:02:32,930 --> 00:02:34,947 Nice place you got here.  2 00:02:35,432 --> 00:02:36,899 Burke?  3 00:02:36,999 --> 00:02:38,248 Relax.  4 00:02:39,751 --> 00:02:41,371 I'm going to level with you.  5 00:02:41,769 --> 00:02:43,889 Hell of a day I've had.  6 00:02:45,639 --> 00:02:47,378 Thirsty...  \n",
       "1  1 00:01:28,322 --> 00:01:31,006 <i>This marks the end</i>  2 00:01:31,007 --> 00:01:33,691 <i>of a long and painful chapter for the people of Libya,</i>  3 00:01:33,694 --> 00:01:37,096 <i>who now have the opportunity to determine their own destiny</i>  4 00:01:37,098 --> 00:01:39,331 <i>in a ne...  \n",
       "2  1 00:03:56,720 --> 00:04:02,011 I died on January 18, 1989.  2 00:04:03,760 --> 00:04:06,300 I was the father of three children.  3 00:04:06,400 --> 00:04:09,165 The husband of a wonderful wife.  4 00:04:10,600 --> 00:04:12,170 A man with a great future.  5 00:04:13,320 --> 00:04:15,322 I was 38...  \n",
       "3  1 00:02:01,720 --> 00:02:06,009 There was a time I knew everything in the sky.  2 00:02:06,600 --> 00:02:08,329 Every satellite...  3 00:02:08,560 --> 00:02:10,688 every constellation...  4 00:02:10,880 --> 00:02:13,690 souvenirs of space walks and astronauts...  5 00:02:13,880 --> 00:02:17,009 ...  \n",
       "4  1 00:00:20,293 --> 00:00:23,263 This is LA 1-6 in pursuit of a robbery suspect.  2 00:00:23,296 --> 00:00:25,463 East of Crenshaw and Slauson Boulevard.  3 00:00:29,803 --> 00:00:31,238 Whoo!  4 00:00:31,271 --> 00:00:33,574 This cop can kiss my ass!  5 00:00:42,849 --> 00:00:44,809 Jack, I thin...  "
      ]
     },
     "execution_count": 8,
     "metadata": {},
     "output_type": "execute_result"
    }
   ],
   "source": [
    "movies.head(5)"
   ]
  },
  {
   "cell_type": "code",
   "execution_count": 9,
   "metadata": {},
   "outputs": [
    {
     "data": {
      "text/html": [
       "<div>\n",
       "<style scoped>\n",
       "    .dataframe tbody tr th:only-of-type {\n",
       "        vertical-align: middle;\n",
       "    }\n",
       "\n",
       "    .dataframe tbody tr th {\n",
       "        vertical-align: top;\n",
       "    }\n",
       "\n",
       "    .dataframe thead th {\n",
       "        text-align: right;\n",
       "    }\n",
       "</style>\n",
       "<table border=\"1\" class=\"dataframe\">\n",
       "  <thead>\n",
       "    <tr style=\"text-align: right;\">\n",
       "      <th></th>\n",
       "      <th>movie_id</th>\n",
       "      <th>subtitle</th>\n",
       "      <th>movie_name</th>\n",
       "      <th>genre</th>\n",
       "    </tr>\n",
       "  </thead>\n",
       "  <tbody>\n",
       "    <tr>\n",
       "      <th>0</th>\n",
       "      <td>1</td>\n",
       "      <td>1 00:02:32,930 --&gt; 00:02:34,947 Nice place you got here.  2 00:02:35,432 --&gt; 00:02:36,899 Burke?  3 00:02:36,999 --&gt; 00:02:38,248 Relax.  4 00:02:39,751 --&gt; 00:02:41,371 I'm going to level with you.  5 00:02:41,769 --&gt; 00:02:43,889 Hell of a day I've had.  6 00:02:45,639 --&gt; 00:02:47,378 Thirsty...</td>\n",
       "      <td>12 Rounds 3: Lockdown</td>\n",
       "      <td>{\"1\":\"action\",\"2\":\"crime\",\"4\":\"thriller\"}</td>\n",
       "    </tr>\n",
       "    <tr>\n",
       "      <th>1</th>\n",
       "      <td>2</td>\n",
       "      <td>1 00:01:28,322 --&gt; 00:01:31,006 &lt;i&gt;This marks the end&lt;/i&gt;  2 00:01:31,007 --&gt; 00:01:33,691 &lt;i&gt;of a long and painful chapter for the people of Libya,&lt;/i&gt;  3 00:01:33,694 --&gt; 00:01:37,096 &lt;i&gt;who now have the opportunity to determine their own destiny&lt;/i&gt;  4 00:01:37,098 --&gt; 00:01:39,331 &lt;i&gt;in a ne...</td>\n",
       "      <td>13 hours: The Secret Soldiers of Benghazi</td>\n",
       "      <td>{\"1\":\"action\",\"5\":\"family\",\"6\":\"fantasy\"}</td>\n",
       "    </tr>\n",
       "    <tr>\n",
       "      <th>2</th>\n",
       "      <td>3</td>\n",
       "      <td>1 00:03:56,720 --&gt; 00:04:02,011 I died on January 18, 1989.  2 00:04:03,760 --&gt; 00:04:06,300 I was the father of three children.  3 00:04:06,400 --&gt; 00:04:09,165 The husband of a wonderful wife.  4 00:04:10,600 --&gt; 00:04:12,170 A man with a great future.  5 00:04:13,320 --&gt; 00:04:15,322 I was 38...</td>\n",
       "      <td>90 Minutes in Heaven</td>\n",
       "      <td>{\"3\":\"drama\"}</td>\n",
       "    </tr>\n",
       "    <tr>\n",
       "      <th>3</th>\n",
       "      <td>4</td>\n",
       "      <td>1 00:02:01,720 --&gt; 00:02:06,009 There was a time I knew everything in the sky.  2 00:02:06,600 --&gt; 00:02:08,329 Every satellite...  3 00:02:08,560 --&gt; 00:02:10,688 every constellation...  4 00:02:10,880 --&gt; 00:02:13,690 souvenirs of space walks and astronauts...  5 00:02:13,880 --&gt; 00:02:17,009 ...</td>\n",
       "      <td>Aloha</td>\n",
       "      <td>{\"7\":\"comedy\",\"3\":\"drama\",\"8\":\"romance\"}</td>\n",
       "    </tr>\n",
       "    <tr>\n",
       "      <th>4</th>\n",
       "      <td>5</td>\n",
       "      <td>1 00:00:20,293 --&gt; 00:00:23,263 This is LA 1-6 in pursuit of a robbery suspect.  2 00:00:23,296 --&gt; 00:00:25,463 East of Crenshaw and Slauson Boulevard.  3 00:00:29,803 --&gt; 00:00:31,238 Whoo!  4 00:00:31,271 --&gt; 00:00:33,574 This cop can kiss my ass!  5 00:00:42,849 --&gt; 00:00:44,809 Jack, I thin...</td>\n",
       "      <td>American Justice</td>\n",
       "      <td>{\"1\":\"action\"}</td>\n",
       "    </tr>\n",
       "    <tr>\n",
       "      <th>5</th>\n",
       "      <td>6</td>\n",
       "      <td>1 00:01:02,563 --&gt; 00:01:04,965 I look at all of you and I think, \"What is this generation?\"  2 00:01:05,065 --&gt; 00:01:07,051 A bunch of Ritalin addicted porn freaks  3 00:01:07,151 --&gt; 00:01:08,552 who are probably sociopaths.  4 00:01:08,652 --&gt; 00:01:10,653 - Yeah! - Yeah!  5 00:01:12,740 --&gt;...</td>\n",
       "      <td>Ashby</td>\n",
       "      <td>{\"7\":\"comedy\",\"2\":\"crime\",\"3\":\"drama\"}</td>\n",
       "    </tr>\n",
       "    <tr>\n",
       "      <th>6</th>\n",
       "      <td>7</td>\n",
       "      <td>1 00:00:08,367 --&gt; 00:00:09,862 &lt;I&gt; Get col? Re. &lt;/ I&gt; - &lt;I&gt; I get the col re &lt;/ i&gt;?  2 00:00:09,880 --&gt; 00:00:12,399 &lt;I&gt; Keep your damn head. &lt;/ I&gt; - &lt;I&gt; Yeah, you're the col, you lie hell &lt;/ i&gt;?.  3 00:00:12,417 --&gt; 00:00:15,695 &lt;I&gt; I do not, you're lying. &lt;/ I&gt; - &lt;I&gt; You make me crazy, fuckin...</td>\n",
       "      <td>Badge of honor</td>\n",
       "      <td>{\"2\":\"crime\",\"3\":\"drama\",\"4\":\"thriller\"}</td>\n",
       "    </tr>\n",
       "    <tr>\n",
       "      <th>7</th>\n",
       "      <td>8</td>\n",
       "      <td>1 00:03:38,018 --&gt; 00:03:42,272 &lt;i&gt;I never knew my parents. The only thing I ever knew was Prescott.&lt;/i&gt;  2 00:03:42,939 --&gt; 00:03:45,592 &lt;i&gt;It was a top-secret government-run school&lt;/i&gt;  3 00:03:45,692 --&gt; 00:03:49,654 &lt;i&gt;that turned little girls into killing machines.&lt;/i&gt;  4 00:03:50,989 --&gt; 0...</td>\n",
       "      <td>Barely Lethal</td>\n",
       "      <td>{\"1\":\"action\",\"7\":\"comedy\"}</td>\n",
       "    </tr>\n",
       "    <tr>\n",
       "      <th>8</th>\n",
       "      <td>9</td>\n",
       "      <td>1 00:00:05,598 --&gt; 00:00:09,201 &lt;i&gt;Charlotte... there are things you couldn't have known.&lt;/i&gt;  2 00:00:09,301 --&gt; 00:00:13,238 &lt;i&gt;It would be difficult for you to grasp the depths to which I had fallen,&lt;/i&gt;  3 00:00:13,338 --&gt; 00:00:16,405 &lt;i&gt;or the guilt that plagued me, without grasping the sc...</td>\n",
       "      <td>Beyond the Mask</td>\n",
       "      <td>{\"1\":\"action\",\"10\":\"adventure\",\"3\":\"drama\"}</td>\n",
       "    </tr>\n",
       "    <tr>\n",
       "      <th>9</th>\n",
       "      <td>10</td>\n",
       "      <td>1 00:04:53,560 --&gt; 00:04:54,721 An accident has  2 00:04:54,800 --&gt; 00:04:56,680 &lt;i&gt;been reported at Chai Wan Nuclear Power Station.&lt;/i&gt;  3 00:06:50,080 --&gt; 00:06:53,289 Hathaway. Cell search. Hands behind you.  4 00:07:12,840 --&gt; 00:07:15,002 Open 16.  5 00:07:15,120 --&gt; 00:07:16,485 Go, go, go...</td>\n",
       "      <td>Blackhat</td>\n",
       "      <td>{\"1\":\"action\",\"2\":\"crime\",\"4\":\"thriller\"}</td>\n",
       "    </tr>\n",
       "    <tr>\n",
       "      <th>10</th>\n",
       "      <td>11</td>\n",
       "      <td>1 00:02:24,460 --&gt; 00:02:28,263 Well, this is pretty much the grossest thing I've ever seen.  2 00:02:31,567 --&gt; 00:02:33,636 No, ma'am. It's actually a lot better than that.  3 00:02:33,736 --&gt; 00:02:36,940 Let me... let me pull something up on my computer really fast.  4 00:02:37,040 --&gt; 00:02...</td>\n",
       "      <td>Bloodsucking Bastards</td>\n",
       "      <td>{\"1\":\"action\",\"7\":\"comedy\", \"11\":\"horror\"}</td>\n",
       "    </tr>\n",
       "  </tbody>\n",
       "</table>\n",
       "</div>"
      ],
      "text/plain": [
       "   movie_id  \\\n",
       "0         1   \n",
       "1         2   \n",
       "2         3   \n",
       "3         4   \n",
       "4         5   \n",
       "5         6   \n",
       "6         7   \n",
       "7         8   \n",
       "8         9   \n",
       "9        10   \n",
       "10       11   \n",
       "\n",
       "                                                                                                                                                                                                                                                                                                       subtitle  \\\n",
       "0   1 00:02:32,930 --> 00:02:34,947 Nice place you got here.  2 00:02:35,432 --> 00:02:36,899 Burke?  3 00:02:36,999 --> 00:02:38,248 Relax.  4 00:02:39,751 --> 00:02:41,371 I'm going to level with you.  5 00:02:41,769 --> 00:02:43,889 Hell of a day I've had.  6 00:02:45,639 --> 00:02:47,378 Thirsty...   \n",
       "1   1 00:01:28,322 --> 00:01:31,006 <i>This marks the end</i>  2 00:01:31,007 --> 00:01:33,691 <i>of a long and painful chapter for the people of Libya,</i>  3 00:01:33,694 --> 00:01:37,096 <i>who now have the opportunity to determine their own destiny</i>  4 00:01:37,098 --> 00:01:39,331 <i>in a ne...   \n",
       "2   1 00:03:56,720 --> 00:04:02,011 I died on January 18, 1989.  2 00:04:03,760 --> 00:04:06,300 I was the father of three children.  3 00:04:06,400 --> 00:04:09,165 The husband of a wonderful wife.  4 00:04:10,600 --> 00:04:12,170 A man with a great future.  5 00:04:13,320 --> 00:04:15,322 I was 38...   \n",
       "3   1 00:02:01,720 --> 00:02:06,009 There was a time I knew everything in the sky.  2 00:02:06,600 --> 00:02:08,329 Every satellite...  3 00:02:08,560 --> 00:02:10,688 every constellation...  4 00:02:10,880 --> 00:02:13,690 souvenirs of space walks and astronauts...  5 00:02:13,880 --> 00:02:17,009 ...   \n",
       "4   1 00:00:20,293 --> 00:00:23,263 This is LA 1-6 in pursuit of a robbery suspect.  2 00:00:23,296 --> 00:00:25,463 East of Crenshaw and Slauson Boulevard.  3 00:00:29,803 --> 00:00:31,238 Whoo!  4 00:00:31,271 --> 00:00:33,574 This cop can kiss my ass!  5 00:00:42,849 --> 00:00:44,809 Jack, I thin...   \n",
       "5   1 00:01:02,563 --> 00:01:04,965 I look at all of you and I think, \"What is this generation?\"  2 00:01:05,065 --> 00:01:07,051 A bunch of Ritalin addicted porn freaks  3 00:01:07,151 --> 00:01:08,552 who are probably sociopaths.  4 00:01:08,652 --> 00:01:10,653 - Yeah! - Yeah!  5 00:01:12,740 -->...   \n",
       "6   1 00:00:08,367 --> 00:00:09,862 <I> Get col? Re. </ I> - <I> I get the col re </ i>?  2 00:00:09,880 --> 00:00:12,399 <I> Keep your damn head. </ I> - <I> Yeah, you're the col, you lie hell </ i>?.  3 00:00:12,417 --> 00:00:15,695 <I> I do not, you're lying. </ I> - <I> You make me crazy, fuckin...   \n",
       "7   1 00:03:38,018 --> 00:03:42,272 <i>I never knew my parents. The only thing I ever knew was Prescott.</i>  2 00:03:42,939 --> 00:03:45,592 <i>It was a top-secret government-run school</i>  3 00:03:45,692 --> 00:03:49,654 <i>that turned little girls into killing machines.</i>  4 00:03:50,989 --> 0...   \n",
       "8   1 00:00:05,598 --> 00:00:09,201 <i>Charlotte... there are things you couldn't have known.</i>  2 00:00:09,301 --> 00:00:13,238 <i>It would be difficult for you to grasp the depths to which I had fallen,</i>  3 00:00:13,338 --> 00:00:16,405 <i>or the guilt that plagued me, without grasping the sc...   \n",
       "9   1 00:04:53,560 --> 00:04:54,721 An accident has  2 00:04:54,800 --> 00:04:56,680 <i>been reported at Chai Wan Nuclear Power Station.</i>  3 00:06:50,080 --> 00:06:53,289 Hathaway. Cell search. Hands behind you.  4 00:07:12,840 --> 00:07:15,002 Open 16.  5 00:07:15,120 --> 00:07:16,485 Go, go, go...   \n",
       "10  1 00:02:24,460 --> 00:02:28,263 Well, this is pretty much the grossest thing I've ever seen.  2 00:02:31,567 --> 00:02:33,636 No, ma'am. It's actually a lot better than that.  3 00:02:33,736 --> 00:02:36,940 Let me... let me pull something up on my computer really fast.  4 00:02:37,040 --> 00:02...   \n",
       "\n",
       "                                   movie_name  \\\n",
       "0                       12 Rounds 3: Lockdown   \n",
       "1   13 hours: The Secret Soldiers of Benghazi   \n",
       "2                        90 Minutes in Heaven   \n",
       "3                                       Aloha   \n",
       "4                            American Justice   \n",
       "5                                       Ashby   \n",
       "6                              Badge of honor   \n",
       "7                               Barely Lethal   \n",
       "8                             Beyond the Mask   \n",
       "9                                    Blackhat   \n",
       "10                      Bloodsucking Bastards   \n",
       "\n",
       "                                          genre  \n",
       "0     {\"1\":\"action\",\"2\":\"crime\",\"4\":\"thriller\"}  \n",
       "1     {\"1\":\"action\",\"5\":\"family\",\"6\":\"fantasy\"}  \n",
       "2                                 {\"3\":\"drama\"}  \n",
       "3      {\"7\":\"comedy\",\"3\":\"drama\",\"8\":\"romance\"}  \n",
       "4                                {\"1\":\"action\"}  \n",
       "5        {\"7\":\"comedy\",\"2\":\"crime\",\"3\":\"drama\"}  \n",
       "6      {\"2\":\"crime\",\"3\":\"drama\",\"4\":\"thriller\"}  \n",
       "7                   {\"1\":\"action\",\"7\":\"comedy\"}  \n",
       "8   {\"1\":\"action\",\"10\":\"adventure\",\"3\":\"drama\"}  \n",
       "9     {\"1\":\"action\",\"2\":\"crime\",\"4\":\"thriller\"}  \n",
       "10   {\"1\":\"action\",\"7\":\"comedy\", \"11\":\"horror\"}  "
      ]
     },
     "execution_count": 9,
     "metadata": {},
     "output_type": "execute_result"
    }
   ],
   "source": [
    "# change datatype of 'movie_id'\n",
    "meta['movie_id'] = meta['movie_id'].astype(str)\n",
    "\n",
    "# merge meta with movies\n",
    "movies = pd.merge(movies, meta[['movie_id', 'movie_name', 'genre']], on = 'movie_id')\n",
    "\n",
    "movies.head(11)"
   ]
  },
  {
   "cell_type": "code",
   "execution_count": 10,
   "metadata": {},
   "outputs": [
    {
     "data": {
      "text/plain": [
       "'{\"1\":\"action\",\"2\":\"crime\",\"4\":\"thriller\"}'"
      ]
     },
     "execution_count": 10,
     "metadata": {},
     "output_type": "execute_result"
    }
   ],
   "source": [
    "movies['genre'][0]"
   ]
  },
  {
   "cell_type": "code",
   "execution_count": 11,
   "metadata": {},
   "outputs": [
    {
     "data": {
      "text/plain": [
       "dict"
      ]
     },
     "execution_count": 11,
     "metadata": {},
     "output_type": "execute_result"
    }
   ],
   "source": [
    "type(json.loads(movies['genre'][0]))"
   ]
  },
  {
   "cell_type": "code",
   "execution_count": 12,
   "metadata": {},
   "outputs": [],
   "source": [
    "# an empty list\n",
    "genres = [] \n",
    "\n",
    "# extract genres\n",
    "for i in movies['genre']: \n",
    "  genres.append(list(json.loads(i).values())) \n",
    "\n",
    "# add to 'movies' dataframe  \n",
    "movies['genre_new'] = genres"
   ]
  },
  {
   "cell_type": "code",
   "execution_count": 13,
   "metadata": {},
   "outputs": [],
   "source": [
    "# remove samples with 0 genre tags\n",
    "movies_new = movies[~(movies['genre_new'].str.len() == 0)]"
   ]
  },
  {
   "cell_type": "code",
   "execution_count": 14,
   "metadata": {},
   "outputs": [
    {
     "data": {
      "text/plain": [
       "((284, 5), (284, 5))"
      ]
     },
     "execution_count": 14,
     "metadata": {},
     "output_type": "execute_result"
    }
   ],
   "source": [
    "movies_new.shape, movies.shape"
   ]
  },
  {
   "cell_type": "code",
   "execution_count": 15,
   "metadata": {},
   "outputs": [
    {
     "data": {
      "text/html": [
       "<div>\n",
       "<style scoped>\n",
       "    .dataframe tbody tr th:only-of-type {\n",
       "        vertical-align: middle;\n",
       "    }\n",
       "\n",
       "    .dataframe tbody tr th {\n",
       "        vertical-align: top;\n",
       "    }\n",
       "\n",
       "    .dataframe thead th {\n",
       "        text-align: right;\n",
       "    }\n",
       "</style>\n",
       "<table border=\"1\" class=\"dataframe\">\n",
       "  <thead>\n",
       "    <tr style=\"text-align: right;\">\n",
       "      <th></th>\n",
       "      <th>movie_id</th>\n",
       "      <th>subtitle</th>\n",
       "      <th>movie_name</th>\n",
       "      <th>genre</th>\n",
       "      <th>genre_new</th>\n",
       "    </tr>\n",
       "  </thead>\n",
       "  <tbody>\n",
       "    <tr>\n",
       "      <th>0</th>\n",
       "      <td>1</td>\n",
       "      <td>1 00:02:32,930 --&gt; 00:02:34,947 Nice place you got here.  2 00:02:35,432 --&gt; 00:02:36,899 Burke?  3 00:02:36,999 --&gt; 00:02:38,248 Relax.  4 00:02:39,751 --&gt; 00:02:41,371 I'm going to level with you.  5 00:02:41,769 --&gt; 00:02:43,889 Hell of a day I've had.  6 00:02:45,639 --&gt; 00:02:47,378 Thirsty...</td>\n",
       "      <td>12 Rounds 3: Lockdown</td>\n",
       "      <td>{\"1\":\"action\",\"2\":\"crime\",\"4\":\"thriller\"}</td>\n",
       "      <td>[action, crime, thriller]</td>\n",
       "    </tr>\n",
       "    <tr>\n",
       "      <th>1</th>\n",
       "      <td>2</td>\n",
       "      <td>1 00:01:28,322 --&gt; 00:01:31,006 &lt;i&gt;This marks the end&lt;/i&gt;  2 00:01:31,007 --&gt; 00:01:33,691 &lt;i&gt;of a long and painful chapter for the people of Libya,&lt;/i&gt;  3 00:01:33,694 --&gt; 00:01:37,096 &lt;i&gt;who now have the opportunity to determine their own destiny&lt;/i&gt;  4 00:01:37,098 --&gt; 00:01:39,331 &lt;i&gt;in a ne...</td>\n",
       "      <td>13 hours: The Secret Soldiers of Benghazi</td>\n",
       "      <td>{\"1\":\"action\",\"5\":\"family\",\"6\":\"fantasy\"}</td>\n",
       "      <td>[action, family, fantasy]</td>\n",
       "    </tr>\n",
       "    <tr>\n",
       "      <th>2</th>\n",
       "      <td>3</td>\n",
       "      <td>1 00:03:56,720 --&gt; 00:04:02,011 I died on January 18, 1989.  2 00:04:03,760 --&gt; 00:04:06,300 I was the father of three children.  3 00:04:06,400 --&gt; 00:04:09,165 The husband of a wonderful wife.  4 00:04:10,600 --&gt; 00:04:12,170 A man with a great future.  5 00:04:13,320 --&gt; 00:04:15,322 I was 38...</td>\n",
       "      <td>90 Minutes in Heaven</td>\n",
       "      <td>{\"3\":\"drama\"}</td>\n",
       "      <td>[drama]</td>\n",
       "    </tr>\n",
       "    <tr>\n",
       "      <th>3</th>\n",
       "      <td>4</td>\n",
       "      <td>1 00:02:01,720 --&gt; 00:02:06,009 There was a time I knew everything in the sky.  2 00:02:06,600 --&gt; 00:02:08,329 Every satellite...  3 00:02:08,560 --&gt; 00:02:10,688 every constellation...  4 00:02:10,880 --&gt; 00:02:13,690 souvenirs of space walks and astronauts...  5 00:02:13,880 --&gt; 00:02:17,009 ...</td>\n",
       "      <td>Aloha</td>\n",
       "      <td>{\"7\":\"comedy\",\"3\":\"drama\",\"8\":\"romance\"}</td>\n",
       "      <td>[comedy, drama, romance]</td>\n",
       "    </tr>\n",
       "    <tr>\n",
       "      <th>4</th>\n",
       "      <td>5</td>\n",
       "      <td>1 00:00:20,293 --&gt; 00:00:23,263 This is LA 1-6 in pursuit of a robbery suspect.  2 00:00:23,296 --&gt; 00:00:25,463 East of Crenshaw and Slauson Boulevard.  3 00:00:29,803 --&gt; 00:00:31,238 Whoo!  4 00:00:31,271 --&gt; 00:00:33,574 This cop can kiss my ass!  5 00:00:42,849 --&gt; 00:00:44,809 Jack, I thin...</td>\n",
       "      <td>American Justice</td>\n",
       "      <td>{\"1\":\"action\"}</td>\n",
       "      <td>[action]</td>\n",
       "    </tr>\n",
       "    <tr>\n",
       "      <th>...</th>\n",
       "      <td>...</td>\n",
       "      <td>...</td>\n",
       "      <td>...</td>\n",
       "      <td>...</td>\n",
       "      <td>...</td>\n",
       "    </tr>\n",
       "    <tr>\n",
       "      <th>196</th>\n",
       "      <td>197</td>\n",
       "      <td>1 00:00:11,365 --&gt; 00:00:13,278 âªâª  2 00:00:23,930 --&gt; 00:00:25,799 âªâª  3 00:00:28,539 --&gt; 00:00:30,452 âªâª  4 00:00:49,104 --&gt; 00:00:50,973 âªâª  5 00:01:00,060 --&gt; 00:01:01,930 âªâª  6 00:01:12,191 --&gt; 00:01:14,060 âªâª  7 00:02:08,017 --&gt; 00:02:09,799 Harper?!  8 00:02:16,583...</td>\n",
       "      <td>Haunt</td>\n",
       "      <td>{\"11\":\"horror\",\"4\":\"thriller\"}</td>\n",
       "      <td>[horror, thriller]</td>\n",
       "    </tr>\n",
       "    <tr>\n",
       "      <th>197</th>\n",
       "      <td>198</td>\n",
       "      <td>1 00:00:33,283 --&gt; 00:00:35,616 &lt;i&gt;The year is 517 AD,&lt;/i&gt;  2 00:00:35,661 --&gt; 00:00:37,323 &lt;i&gt;known as the Dark Ages,&lt;/i&gt;  3 00:00:37,371 --&gt; 00:00:39,579 &lt;i&gt;and for fucking good reason.&lt;/i&gt;  4 00:00:40,541 --&gt; 00:00:43,705 &lt;i&gt;An endless war between the armies of man and the creatures of darkne...</td>\n",
       "      <td>Hellboy</td>\n",
       "      <td>{\"1\":\"action\",\"10\":\"adventure\"}</td>\n",
       "      <td>[action, adventure]</td>\n",
       "    </tr>\n",
       "    <tr>\n",
       "      <th>198</th>\n",
       "      <td>199</td>\n",
       "      <td>1 00:00:31,560 --&gt; 00:00:32,617 Quiet!  2 00:00:41,761 --&gt; 00:00:43,367 What are you?  3 00:00:43,641 --&gt; 00:00:45,023 Shhh.  4 00:00:45,813 --&gt; 00:00:46,805 Oh.  5 00:00:58,576 --&gt; 00:00:59,545 Oh!  6 00:01:01,700 --&gt; 00:01:02,833 Aah! You're a demon!  7 00:01:03,005 --&gt; 00:01:04,224 Shh-shh-sh...</td>\n",
       "      <td>how to Train Your Dragon: The Hidden World</td>\n",
       "      <td>{\"1\":\"action\",\"10\":\"adventure\"}</td>\n",
       "      <td>[action, adventure]</td>\n",
       "    </tr>\n",
       "    <tr>\n",
       "      <th>199</th>\n",
       "      <td>200</td>\n",
       "      <td>1 00:01:01,130 --&gt; 00:01:03,670 It's like we were doomed to destroy our planet.  2 00:01:04,963 --&gt; 00:01:07,553 Some say it was because of the increasing pollution.  3 00:01:09,296 --&gt; 00:01:10,876 I just call it human nature.  4 00:01:13,005 --&gt; 00:01:15,585 A few scientists predicted what wou...</td>\n",
       "      <td>IO</td>\n",
       "      <td>{\"3\":\"drama\",\"10\":\"adventure\"}</td>\n",
       "      <td>[drama, adventure]</td>\n",
       "    </tr>\n",
       "    <tr>\n",
       "      <th>200</th>\n",
       "      <td>201</td>\n",
       "      <td>1 00:00:14,939 --&gt; 00:00:19,939 Subtitles by explosiveskull www.OpenSubtitles.org  2 00:00:26,376 --&gt; 00:00:28,012 &lt;i&gt;You'll float, too!&lt;/i&gt;  3 00:00:28,079 --&gt; 00:00:29,479 &lt;i&gt;You'll float, too!&lt;/i&gt;  4 00:00:29,546 --&gt; 00:00:31,581 &lt;i&gt;You'll float, too!&lt;/i&gt;  5 00:00:39,357 --&gt; 00:00:41,125 I sa...</td>\n",
       "      <td>It Chapter Two</td>\n",
       "      <td>{\"3\":\"drama\",\"11\":\"horror\",\"6\":\"fantasy\"}</td>\n",
       "      <td>[drama, horror, fantasy]</td>\n",
       "    </tr>\n",
       "  </tbody>\n",
       "</table>\n",
       "<p>201 rows × 5 columns</p>\n",
       "</div>"
      ],
      "text/plain": [
       "    movie_id  \\\n",
       "0          1   \n",
       "1          2   \n",
       "2          3   \n",
       "3          4   \n",
       "4          5   \n",
       "..       ...   \n",
       "196      197   \n",
       "197      198   \n",
       "198      199   \n",
       "199      200   \n",
       "200      201   \n",
       "\n",
       "                                                                                                                                                                                                                                                                                                        subtitle  \\\n",
       "0    1 00:02:32,930 --> 00:02:34,947 Nice place you got here.  2 00:02:35,432 --> 00:02:36,899 Burke?  3 00:02:36,999 --> 00:02:38,248 Relax.  4 00:02:39,751 --> 00:02:41,371 I'm going to level with you.  5 00:02:41,769 --> 00:02:43,889 Hell of a day I've had.  6 00:02:45,639 --> 00:02:47,378 Thirsty...   \n",
       "1    1 00:01:28,322 --> 00:01:31,006 <i>This marks the end</i>  2 00:01:31,007 --> 00:01:33,691 <i>of a long and painful chapter for the people of Libya,</i>  3 00:01:33,694 --> 00:01:37,096 <i>who now have the opportunity to determine their own destiny</i>  4 00:01:37,098 --> 00:01:39,331 <i>in a ne...   \n",
       "2    1 00:03:56,720 --> 00:04:02,011 I died on January 18, 1989.  2 00:04:03,760 --> 00:04:06,300 I was the father of three children.  3 00:04:06,400 --> 00:04:09,165 The husband of a wonderful wife.  4 00:04:10,600 --> 00:04:12,170 A man with a great future.  5 00:04:13,320 --> 00:04:15,322 I was 38...   \n",
       "3    1 00:02:01,720 --> 00:02:06,009 There was a time I knew everything in the sky.  2 00:02:06,600 --> 00:02:08,329 Every satellite...  3 00:02:08,560 --> 00:02:10,688 every constellation...  4 00:02:10,880 --> 00:02:13,690 souvenirs of space walks and astronauts...  5 00:02:13,880 --> 00:02:17,009 ...   \n",
       "4    1 00:00:20,293 --> 00:00:23,263 This is LA 1-6 in pursuit of a robbery suspect.  2 00:00:23,296 --> 00:00:25,463 East of Crenshaw and Slauson Boulevard.  3 00:00:29,803 --> 00:00:31,238 Whoo!  4 00:00:31,271 --> 00:00:33,574 This cop can kiss my ass!  5 00:00:42,849 --> 00:00:44,809 Jack, I thin...   \n",
       "..                                                                                                                                                                                                                                                                                                           ...   \n",
       "196  1 00:00:11,365 --> 00:00:13,278 âªâª  2 00:00:23,930 --> 00:00:25,799 âªâª  3 00:00:28,539 --> 00:00:30,452 âªâª  4 00:00:49,104 --> 00:00:50,973 âªâª  5 00:01:00,060 --> 00:01:01,930 âªâª  6 00:01:12,191 --> 00:01:14,060 âªâª  7 00:02:08,017 --> 00:02:09,799 Harper?!  8 00:02:16,583...   \n",
       "197  1 00:00:33,283 --> 00:00:35,616 <i>The year is 517 AD,</i>  2 00:00:35,661 --> 00:00:37,323 <i>known as the Dark Ages,</i>  3 00:00:37,371 --> 00:00:39,579 <i>and for fucking good reason.</i>  4 00:00:40,541 --> 00:00:43,705 <i>An endless war between the armies of man and the creatures of darkne...   \n",
       "198  1 00:00:31,560 --> 00:00:32,617 Quiet!  2 00:00:41,761 --> 00:00:43,367 What are you?  3 00:00:43,641 --> 00:00:45,023 Shhh.  4 00:00:45,813 --> 00:00:46,805 Oh.  5 00:00:58,576 --> 00:00:59,545 Oh!  6 00:01:01,700 --> 00:01:02,833 Aah! You're a demon!  7 00:01:03,005 --> 00:01:04,224 Shh-shh-sh...   \n",
       "199  1 00:01:01,130 --> 00:01:03,670 It's like we were doomed to destroy our planet.  2 00:01:04,963 --> 00:01:07,553 Some say it was because of the increasing pollution.  3 00:01:09,296 --> 00:01:10,876 I just call it human nature.  4 00:01:13,005 --> 00:01:15,585 A few scientists predicted what wou...   \n",
       "200  1 00:00:14,939 --> 00:00:19,939 Subtitles by explosiveskull www.OpenSubtitles.org  2 00:00:26,376 --> 00:00:28,012 <i>You'll float, too!</i>  3 00:00:28,079 --> 00:00:29,479 <i>You'll float, too!</i>  4 00:00:29,546 --> 00:00:31,581 <i>You'll float, too!</i>  5 00:00:39,357 --> 00:00:41,125 I sa...   \n",
       "\n",
       "                                     movie_name  \\\n",
       "0                         12 Rounds 3: Lockdown   \n",
       "1     13 hours: The Secret Soldiers of Benghazi   \n",
       "2                          90 Minutes in Heaven   \n",
       "3                                         Aloha   \n",
       "4                              American Justice   \n",
       "..                                          ...   \n",
       "196                                       Haunt   \n",
       "197                                     Hellboy   \n",
       "198  how to Train Your Dragon: The Hidden World   \n",
       "199                                          IO   \n",
       "200                              It Chapter Two   \n",
       "\n",
       "                                         genre                  genre_new  \n",
       "0    {\"1\":\"action\",\"2\":\"crime\",\"4\":\"thriller\"}  [action, crime, thriller]  \n",
       "1    {\"1\":\"action\",\"5\":\"family\",\"6\":\"fantasy\"}  [action, family, fantasy]  \n",
       "2                                {\"3\":\"drama\"}                    [drama]  \n",
       "3     {\"7\":\"comedy\",\"3\":\"drama\",\"8\":\"romance\"}   [comedy, drama, romance]  \n",
       "4                               {\"1\":\"action\"}                   [action]  \n",
       "..                                         ...                        ...  \n",
       "196             {\"11\":\"horror\",\"4\":\"thriller\"}         [horror, thriller]  \n",
       "197            {\"1\":\"action\",\"10\":\"adventure\"}        [action, adventure]  \n",
       "198            {\"1\":\"action\",\"10\":\"adventure\"}        [action, adventure]  \n",
       "199             {\"3\":\"drama\",\"10\":\"adventure\"}         [drama, adventure]  \n",
       "200  {\"3\":\"drama\",\"11\":\"horror\",\"6\":\"fantasy\"}   [drama, horror, fantasy]  \n",
       "\n",
       "[201 rows x 5 columns]"
      ]
     },
     "execution_count": 15,
     "metadata": {},
     "output_type": "execute_result"
    }
   ],
   "source": [
    "movies.head(201)"
   ]
  },
  {
   "cell_type": "code",
   "execution_count": 16,
   "metadata": {},
   "outputs": [
    {
     "data": {
      "text/plain": [
       "13"
      ]
     },
     "execution_count": 16,
     "metadata": {},
     "output_type": "execute_result"
    }
   ],
   "source": [
    "# get all genre tags in a list\n",
    "all_genres = sum(genres,[])\n",
    "len(set(all_genres))"
   ]
  },
  {
   "cell_type": "code",
   "execution_count": 17,
   "metadata": {},
   "outputs": [],
   "source": [
    "\n",
    "all_genres = nltk.FreqDist(all_genres) \n",
    "\n",
    "# create dataframe\n",
    "all_genres_df = pd.DataFrame({'Genre': list(all_genres.keys()), \n",
    "                              'Count': list(all_genres.values())})"
   ]
  },
  {
   "cell_type": "code",
   "execution_count": 18,
   "metadata": {},
   "outputs": [
    {
     "data": {
      "image/png": "[encoded data removed]",
      "text/plain": [
       "<Figure size 576x792 with 1 Axes>"
      ]
     },
     "metadata": {
      "needs_background": "light"
     },
     "output_type": "display_data"
    }
   ],
   "source": [
    "g = all_genres_df.nlargest(columns=\"Count\", n = 50) \n",
    "plt.figure(figsize=(8,11)) \n",
    "ax = sns.barplot(data=g, x= \"Count\", y = \"Genre\") \n",
    "ax.set(ylabel = 'Count') \n",
    "plt.show()"
   ]
  },
  {
   "cell_type": "code",
   "execution_count": 19,
   "metadata": {},
   "outputs": [],
   "source": [
    "# function for text cleaning \n",
    "def clean_text(text):\n",
    "    # remove backslash-apostrophe \n",
    "    text = re.sub(\"\\'\", \"\", text) \n",
    "    # remove everything except alphabets \n",
    "    text = re.sub(\"[^a-zA-Z]\",\" \",text) \n",
    "    # remove whitespaces \n",
    "    text = ' '.join(text.split()) \n",
    "    # convert text to lowercase \n",
    "    text = text.lower() \n",
    "    \n",
    "    return text"
   ]
  },
  {
   "cell_type": "code",
   "execution_count": 20,
   "metadata": {},
   "outputs": [],
   "source": [
    "movies_new['clean_subtitle'] = movies_new['subtitle'].apply(lambda x: clean_text(x))"
   ]
  },
  {
   "cell_type": "code",
   "execution_count": 21,
   "metadata": {},
   "outputs": [
    {
     "data": {
      "image/png": "[encoded data removed]",
      "text/plain": [
       "<Figure size 864x1080 with 1 Axes>"
      ]
     },
     "metadata": {
      "needs_background": "light"
     },
     "output_type": "display_data"
    }
   ],
   "source": [
    "def freq_words(x, terms = 30): \n",
    "  all_words = ' '.join([text for text in x]) \n",
    "  all_words = all_words.split() \n",
    "  fdist = nltk.FreqDist(all_words) \n",
    "  words_df = pd.DataFrame({'word':list(fdist.keys()), 'count':list(fdist.values())}) \n",
    "  \n",
    "  # selecting top 20 most frequent words \n",
    "  d = words_df.nlargest(columns=\"count\", n = terms) \n",
    "  \n",
    "  # visualize words and frequencies\n",
    "  plt.figure(figsize=(12,15)) \n",
    "  ax = sns.barplot(data=d, x= \"count\", y = \"word\") \n",
    "  ax.set(ylabel = 'Word') \n",
    "  plt.show()\n",
    "  \n",
    "# print 100 most frequent words \n",
    "freq_words(movies_new['clean_subtitle'], 100)"
   ]
  },
  {
   "cell_type": "code",
   "execution_count": 22,
   "metadata": {},
   "outputs": [
    {
     "name": "stderr",
     "output_type": "stream",
     "text": [
      "[nltk_data] Downloading package stopwords to\n",
      "[nltk_data]     C:\\Users\\User\\AppData\\Roaming\\nltk_data...\n",
      "[nltk_data]   Package stopwords is already up-to-date!\n"
     ]
    },
    {
     "data": {
      "text/plain": [
       "True"
      ]
     },
     "execution_count": 22,
     "metadata": {},
     "output_type": "execute_result"
    }
   ],
   "source": [
    "nltk.download('stopwords')"
   ]
  },
  {
   "cell_type": "code",
   "execution_count": 23,
   "metadata": {},
   "outputs": [],
   "source": [
    "from nltk.corpus import stopwords\n",
    "stop_words = set(stopwords.words('english'))\n",
    "\n",
    "# function to remove stopwords\n",
    "def remove_stopwords(text):\n",
    "    no_stopword_text = [w for w in text.split() if not w in stop_words]\n",
    "    return ' '.join(no_stopword_text)\n",
    "\n",
    "movies_new['clean_subtitle'] = movies_new['clean_subtitle'].apply(lambda x: remove_stopwords(x))"
   ]
  },
  {
   "cell_type": "code",
   "execution_count": 24,
   "metadata": {},
   "outputs": [
    {
     "data": {
      "image/png": "[encoded data removed]",
      "text/plain": [
       "<Figure size 864x1080 with 1 Axes>"
      ]
     },
     "metadata": {
      "needs_background": "light"
     },
     "output_type": "display_data"
    }
   ],
   "source": [
    "freq_words(movies_new['clean_subtitle'], 100)"
   ]
  },
  {
   "cell_type": "code",
   "execution_count": 25,
   "metadata": {},
   "outputs": [],
   "source": [
    "from sklearn.preprocessing import MultiLabelBinarizer\n",
    "\n",
    "multilabel_binarizer = MultiLabelBinarizer()\n",
    "multilabel_binarizer.fit(movies_new['genre_new'])\n",
    "\n",
    "# transform target variable\n",
    "y = multilabel_binarizer.transform(movies_new['genre_new'])"
   ]
  },
  {
   "cell_type": "code",
   "execution_count": 54,
   "metadata": {},
   "outputs": [],
   "source": [
    "tfidf_vectorizer = TfidfVectorizer(max_df=0.8,  max_features=10000)"
   ]
  },
  {
   "cell_type": "code",
   "execution_count": 55,
   "metadata": {},
   "outputs": [],
   "source": [
    "# split dataset into training and validation set\n",
    "xtrain, xval, ytrain, yval = train_test_split(movies_new['clean_subtitle'], y, test_size=0.3, random_state=10)"
   ]
  },
  {
   "cell_type": "code",
   "execution_count": 56,
   "metadata": {},
   "outputs": [],
   "source": [
    "# create TF-IDF features\n",
    "xtrain_tfidf = tfidf_vectorizer.fit_transform(xtrain)\n",
    "xval_tfidf = tfidf_vectorizer.transform(xval)"
   ]
  },
  {
   "cell_type": "code",
   "execution_count": 57,
   "metadata": {},
   "outputs": [],
   "source": [
    "# Binary Relevance\n",
    "from sklearn.multiclass import OneVsRestClassifier\n",
    "\n",
    "# Performance metric\n",
    "from sklearn.metrics import f1_score\n",
    "from sklearn.metrics import recall_score"
   ]
  },
  {
   "cell_type": "markdown",
   "metadata": {},
   "source": [
    "# Apply Algorithm"
   ]
  },
  {
   "cell_type": "code",
   "execution_count": 71,
   "metadata": {},
   "outputs": [
    {
     "data": {
      "text/plain": [
       "array([0, 0, 0, 0, 1, 0, 0, 0, 0, 0, 0, 0, 0])"
      ]
     },
     "execution_count": 71,
     "metadata": {},
     "output_type": "execute_result"
    }
   ],
   "source": [
    "function SVMDT(trainData,testData)\n",
    "\n",
    "[m1,n1] = size(trainData);\n",
    "data1   = trainData(:,2:n1);\n",
    "target1 = trainData(:,1);\n",
    "\n",
    "svm_struct=svmtrain(target1,data1,'-s 0 -t 2 -c 50');\n",
    "\n",
    "sv = svm_struct.SVs;                    \n",
    "alph = svm_struct.sv_coef;              \n",
    "weight = sv'*alph;                    \n",
    "bias = -svm_struct.rho;           \n",
    "[m2,n2] = size(testData);\n",
    "data2   = testData(:,2:n1);\n",
    "target2 = testData(:,1);\n",
    "\n",
    "\n",
    "decision_f = inline(' w*x + b ');            \n",
    "closeness_f = inline('(1/(1+exp(-y)))-0.5'); \n",
    "\n",
    "new_target2 = target2;\n",
    "t = input('Enter threshold value for measure of closeness between 0 and 0.5: ');\n",
    "\n",
    "for i=1:m2\n",
    "    \n",
    "    y=decision_f(bias, weight', data2(i,:)');   \n",
    "    S=closeness_f(y);                           \n",
    "    S=abs(S);                                   \n",
    "                                            \n",
    "    if S<=t               \n",
    "        new_target2(i)=3;   \n",
    "    end                    \n",
    "    \n",
    "end\n",
    "\n",
    "node1 = [];     \n",
    "node2 = [];    \n",
    "\n",
    "node3 = [];    \n",
    "               \n",
    "for i = 1 : m2\n",
    "    if new_target2(i)==1\n",
    "        node1=[node1 i];\n",
    "        \n",
    "    elseif new_target2(i)==2\n",
    "        node2=[node2 i];\n",
    "        \n",
    "    elseif new_target2(i)==3\n",
    "        node3=[node3 i];\n",
    "    end\n",
    "end\n",
    "\n",
    "fprintf('',size(node3,2))\n",
    "\n",
    "\n",
    "[predicted_class, acc, prob]=svmpredict( target2(node3), data2(node3,:), svm_struct);\n",
    "\n",
    "end"
   ]
  },
  {
   "cell_type": "code",
   "execution_count": 72,
   "metadata": {},
   "outputs": [
    {
     "data": {
      "text/plain": [
       "('documentary',)"
      ]
     },
     "execution_count": 72,
     "metadata": {},
     "output_type": "execute_result"
    }
   ],
   "source": [
    "multilabel_binarizer.inverse_transform(y_pred)[3]"
   ]
  },
  {
   "cell_type": "code",
   "execution_count": 1,
   "metadata": {
    "scrolled": false
   },
   "outputs": [
    {
     "name": "stdout",
     "output_type": "stream",
     "text": [
      "94\n"
     ]
    }
   ],
   "source": [
    "# evaluate performance\n",
    "f1_score(yval, y_pred, average=\"micro\")\n"
   ]
  },
  {
   "cell_type": "code",
   "execution_count": 74,
   "metadata": {},
   "outputs": [
    {
     "name": "stdout",
     "output_type": "stream",
     "text": [
      "The classification report for Multinomial Naive Bayes Classifier is as followed:\n",
      "\n",
      "               precision    recall  f1-score   support\n",
      "\n",
      "           0       0.94      0.83      0.88        41\n",
      "           1       0.78      0.91      0.84        23\n",
      "           2       0.85      0.79      0.81        28\n",
      "           3       0.86      0.90      0.88        21\n",
      "           4       1.00      1.00      1.00         1\n",
      "           5       0.90      0.90      0.90        40\n",
      "           6       0.20      1.00      0.33         1\n",
      "           7       0.33      1.00      0.50         1\n",
      "           8       0.00      0.00      0.00         0\n",
      "           9       1.00      0.59      0.74        17\n",
      "          10       1.00      0.80      0.89        10\n",
      "          11       0.43      0.60      0.50         5\n",
      "          12       0.89      0.89      0.89        18\n",
      "\n",
      "   micro avg       0.85      0.83      0.84       206\n",
      "   macro avg       0.71      0.79      0.71       206\n",
      "weighted avg       0.88      0.83      0.85       206\n",
      " samples avg       0.85      0.83      0.83       206\n",
      "\n"
     ]
    },
    {
     "name": "stderr",
     "output_type": "stream",
     "text": [
      "C:\\ProgramData\\Anaconda3\\lib\\site-packages\\sklearn\\metrics\\_classification.py:1221: UndefinedMetricWarning: Precision and F-score are ill-defined and being set to 0.0 in labels with no predicted samples. Use `zero_division` parameter to control this behavior.\n",
      "  _warn_prf(average, modifier, msg_start, len(result))\n",
      "C:\\ProgramData\\Anaconda3\\lib\\site-packages\\sklearn\\metrics\\_classification.py:1221: UndefinedMetricWarning: Recall and F-score are ill-defined and being set to 0.0 in labels with no true samples. Use `zero_division` parameter to control this behavior.\n",
      "  _warn_prf(average, modifier, msg_start, len(result))\n"
     ]
    }
   ],
   "source": [
    "from sklearn.metrics import classification_report\n",
    "\n",
    "\n",
    "print(\"The classification report for Multinomial Naive Bayes Classifier is as followed:\\n\\n\",\n",
    "      classification_report(yval, y_pred))"
   ]
  },
  {
   "cell_type": "code",
   "execution_count": 44,
   "metadata": {},
   "outputs": [],
   "source": [
    "import matplotlib.pyplot as plt\n",
    "from sklearn.metrics import confusion_matrix,accuracy_score\n",
    "import itertools\n",
    "class_names=[\"action\",\"drama\",\"comedy\",\"adventure\",\"crime\",\"thriller\",\"horror\",\"mystery\",\"romance\",\"family\",\"fantasy\",\"history\",\"documentary\"]\n",
    "\n",
    "def plot_confusion_matrix(cm, classes,\n",
    "                          normalize=False,\n",
    "                          title='Confusion matrix',\n",
    "                          cmap=plt.cm.Reds):\n",
    "\n",
    "    plt.imshow(cm, interpolation='nearest', cmap=cmap)\n",
    "    plt.title(title)\n",
    "    plt.colorbar()\n",
    "    tick_marks = np.arange(len(classes))\n",
    "    plt.xticks(tick_marks, classes, rotation=90)\n",
    "    plt.yticks(tick_marks, classes)\n",
    "\n",
    "    print(cm)\n",
    "\n",
    "    thresh = cm.max() / 2.\n",
    "    for i, j in itertools.product(range(cm.shape[0]), range(cm.shape[1])):\n",
    "        plt.text(j, i, cm[i, j],\n",
    "                 horizontalalignment=\"center\",\n",
    "                 color=\"white\" if cm[i, j] > thresh else \"black\")\n",
    "\n",
    "    plt.tight_layout()\n",
    "    plt.ylabel('True label')\n",
    "    plt.xlabel('Predicted label')"
   ]
  },
  {
   "cell_type": "code",
   "execution_count": 45,
   "metadata": {},
   "outputs": [
    {
     "name": "stdout",
     "output_type": "stream",
     "text": [
      "[[34  2  0  1  0  4  0]\n",
      " [ 0  5  0  0  0  0  0]\n",
      " [ 0  0 12  0  0  4  0]\n",
      " [ 0  2  0  4  0  0  0]\n",
      " [ 0  0  0  0  1  0  0]\n",
      " [ 0  0  4  0  0  7  0]\n",
      " [ 0  0  0  0  0  0  6]]\n"
     ]
    },
    {
     "data": {
      "image/png": "[encoded data removed]",
      "text/plain": [
       "<Figure size 720x720 with 2 Axes>"
      ]
     },
     "metadata": {
      "needs_background": "light"
     },
     "output_type": "display_data"
    }
   ],
   "source": [
    "plt.figure(figsize=(10,10))\n",
    "plot_confusion_matrix(confusion_matrix(yval.argmax(axis=1), y_pred.argmax(axis=1)),classes=class_names)\n",
    "\n",
    "plt.show()"
   ]
  },
  {
   "cell_type": "code",
   "execution_count": 46,
   "metadata": {},
   "outputs": [],
   "source": [
    "def infer_tags(q):\n",
    "    q = clean_text(q)\n",
    "    q = remove_stopwords(q)\n",
    "    q_vec = tfidf_vectorizer.transform([q])\n",
    "    q_pred = clf.predict(q_vec)\n",
    "    return multilabel_binarizer.inverse_transform(q_pred)"
   ]
  },
  {
   "cell_type": "code",
   "execution_count": 47,
   "metadata": {},
   "outputs": [
    {
     "name": "stdout",
     "output_type": "stream",
     "text": [
      "Movie:  Entertainment \n",
      "Predicted genre:  [('drama',)]\n",
      "Actual genre:  ['drama'] \n",
      "\n",
      "Movie:  1917 \n",
      "Predicted genre:  [('drama', 'thriller')]\n",
      "Actual genre:  ['thriller', 'drama'] \n",
      "\n",
      "Movie:  Long Shot \n",
      "Predicted genre:  [('drama', 'thriller')]\n",
      "Actual genre:  ['romance', 'comedy'] \n",
      "\n",
      "Movie:  Angel Has Fallen \n",
      "Predicted genre:  [('action', 'thriller')]\n",
      "Actual genre:  ['action', 'thriller'] \n",
      "\n",
      "Movie:  Don Verdean \n",
      "Predicted genre:  [('drama',)]\n",
      "Actual genre:  ['comedy', 'drama'] \n",
      "\n"
     ]
    }
   ],
   "source": [
    "for i in range(5): \n",
    "  k = xval.sample(1).index[0]\n",
    "  print(\"Movie: \", movies_new['movie_name'][k], \"\\nPredicted genre: \", infer_tags(xval[k])), print(\"Actual genre: \",movies_new['genre_new'][k], \"\\n\")\n"
   ]
  },
  {
   "cell_type": "code",
   "execution_count": null,
   "metadata": {},
   "outputs": [],
   "source": []
  }
 ],
 "metadata": {
  "kernelspec": {
   "display_name": "Python 3",
   "language": "python",
   "name": "python3"
  },
  "language_info": {
   "codemirror_mode": {
    "name": "ipython",
    "version": 3
   },
   "file_extension": ".py",
   "mimetype": "text/x-python",
   "name": "python",
   "nbconvert_exporter": "python",
   "pygments_lexer": "ipython3",
   "version": "3.8.3"
  }
 },
 "nbformat": 4,
 "nbformat_minor": 4
}
